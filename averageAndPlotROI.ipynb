{
 "cells": [
  {
   "cell_type": "code",
   "execution_count": 1,
   "metadata": {},
   "outputs": [],
   "source": [
    "%reload_ext autoreload\n",
    "%autoreload 2\n",
    "%matplotlib qt \n",
    "\n",
    "import tifffile \n",
    "import napari\n",
    "import os\n",
    "import numpy as np\n",
    "import regions\n",
    "import matplotlib.pyplot as plt\n",
    "\n",
    "from utils import grouped_z_project"
   ]
  },
  {
   "cell_type": "code",
   "execution_count": 6,
   "metadata": {},
   "outputs": [],
   "source": [
    "\n",
    "\n",
    "# stack1 = tifffile.imread(\n",
    "#     \"/Users/jamesrowland/Desktop/J007_2x_rightHem_140deep_00001.tif\"\n",
    "# )\n",
    "from utils import load_tiff_folder, load_tiff_folder_truncated\n",
    "\n",
    "\n",
    "stack = load_tiff_folder_truncated(\"/Volumes/MarcBusche/Josef/2P/to_analyse/2024-10-22/JB011/suite2p/plane0/reg_tif\", 20)\n",
    "grouped = grouped_z_project(stack, 10)\n",
    "average = np.mean(stack, axis=0)\n"
   ]
  },
  {
   "cell_type": "code",
   "execution_count": 7,
   "metadata": {},
   "outputs": [
    {
     "data": {
      "text/plain": [
       "<Image layer 'raw' at 0x1488b8860>"
      ]
     },
     "execution_count": 7,
     "metadata": {},
     "output_type": "execute_result"
    }
   ],
   "source": [
    "viewer = napari.Viewer()\n",
    "viewer.add_image(average, name=\"Average Image\")\n",
    "\n",
    "viewer.add_image(grouped, name='Grouped z project')\n",
    "viewer.add_image(stack, name='raw')"
   ]
  },
  {
   "cell_type": "code",
   "execution_count": 27,
   "metadata": {},
   "outputs": [],
   "source": [
    "if point_layer := [layer for layer in viewer.layers if layer.name == \"Points\"]:\n",
    "    point_layer = point_layer[0]\n",
    "else:\n",
    "    point_layer = viewer.add_points(name=\"Points\")"
   ]
  },
  {
   "cell_type": "code",
   "execution_count": 28,
   "metadata": {},
   "outputs": [],
   "source": [
    "rois = point_layer.data[0]\n",
    "assert rois.size > 0, \"You need to add a point in the viewer\""
   ]
  },
  {
   "cell_type": "code",
   "execution_count": 29,
   "metadata": {},
   "outputs": [],
   "source": [
    "roi0_center = regions.PixCoord(rois[2], rois[1])\n",
    "roi0_circle = regions.CirclePixelRegion(center=roi0_center, radius=10) #radius is in px\n",
    "roi0_patch = roi0_circle.as_artist(facecolor='none', edgecolor='yellow', linewidth=2)\n",
    "roi0_mask = roi0_circle.to_mask().to_image(stack[0, :, :].shape)\n",
    "\n",
    "fig, ax = plt.subplots(1, 2, figsize=(10,5))\n",
    "\n",
    "im0 = ax[0].imshow(average)\n",
    "ax[0].add_patch(roi0_patch)\n",
    "\n",
    "im1 = ax[1].imshow(roi0_mask, cmap='Greys_r')"
   ]
  },
  {
   "cell_type": "code",
   "execution_count": 30,
   "metadata": {},
   "outputs": [],
   "source": [
    "mask_activity = stack * roi0_mask\n",
    "mask_activity[mask_activity == 0] = np.nan\n",
    "mean_mask = np.nanmean(mask_activity, axis=(1,2))"
   ]
  },
  {
   "cell_type": "code",
   "execution_count": 31,
   "metadata": {},
   "outputs": [
    {
     "data": {
      "text/plain": [
       "Text(0.5, 0, 'Time (s)')"
      ]
     },
     "execution_count": 31,
     "metadata": {},
     "output_type": "execute_result"
    }
   ],
   "source": [
    "\n",
    "plt.figure()\n",
    "sampling_rate = 30\n",
    "x_axis = np.linspace(0, mask_activity.shape[0]/sampling_rate, mask_activity.shape[0])\n",
    "# x_axis = np.arange(mask_activity.shape[0])\n",
    "plt.plot(x_axis, np.nanmean(mask_activity, axis=(1,2)))\n",
    "plt.xlabel(\"Time (s)\")"
   ]
  }
 ],
 "metadata": {
  "kernelspec": {
   "display_name": "Python 3",
   "language": "python",
   "name": "python3"
  },
  "language_info": {
   "codemirror_mode": {
    "name": "ipython",
    "version": 3
   },
   "file_extension": ".py",
   "mimetype": "text/x-python",
   "name": "python",
   "nbconvert_exporter": "python",
   "pygments_lexer": "ipython3",
   "version": "3.12.6"
  }
 },
 "nbformat": 4,
 "nbformat_minor": 2
}
